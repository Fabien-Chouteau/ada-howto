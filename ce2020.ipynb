{
 "cells": [
  {
   "cell_type": "markdown",
   "metadata": {},
   "source": [
    "# Поддержка грядущего стандарта Ада 202х в GNAT Community Edition 2020\n",
    "\n",
    "[![Binder](https://mybinder.org/badge_logo.svg)][mybinder]\n",
    "\n",
    "В мае 2020г. вышла новая редакция компилятора Ada - [GNAT Community Edition 2020].\n",
    "В ней, среди прочих изменений и улучшений, реализована значительная часть новых\n",
    "возможностей [грядущего стандарта Ады] носящего условное название Ada 202x.\n",
    "\n",
    "Давайте познакомимся с ними поближе. Благодаря [Jupyter Ada Kernel]\n",
    "поэкспериментировать с примерами использования этих возможностей можно прямо\n",
    "в бравзере. Для этого откройте данный \"блокнот\" просто перейдя по ссылке\n",
    "на [mybinder].\n",
    "(Предупреждение: загрузка блокнота может занять некоторое время необходимое для сборки и запуска контейнера).\n",
    "\n",
    "Если Вы ранее не работали с блокнотами Jupyter - не пугайтесь, это не сложно.\n",
    "Основная идея в том, что Вы может выполнять ячейки с кодом. Для этого нажмите\n",
    "`Ctrl+Enter` либо воспользуйтесь меню или иконками. В [Jupyter Ada Kernel]\n",
    "ячейка может содержать [спецификатор контекста], [оператор] или [определение],\n",
    "либо несколько таких элементов, но одного типа.\n",
    "\n",
    "\n",
    "## Активация Ada 202x\n",
    "\n",
    "Первое, что нужно сделать, это указать компилятору, что Вы используете новый стандарт.\n",
    "Обычно это делается при помощи ключа компилятора `-gnat2020`.\n",
    "Указать его можно в коммандной строке или лучше в проектном файле.\n",
    "Но в этом блокноте мы будем пользоваться директивой компилятора `pragma Ada_2020;`.\n",
    "Следующая ячейка должна выполнятся первой, иначе последующие ячейки работать не будут!\n",
    "(А ещё нам понадобится пакет `Ada.Text_IO;`.)\n",
    "\n",
    "[GNAT Community Edition 2020]:\n",
    "  https://blog.adacore.com/gnat-community-2020-is-here\n",
    "  \"GNAT Community 2020 is here!\"\n",
    "\n",
    "[грядущего стандарта Ады]:\n",
    "  http://www.ada-auth.org/standards/ada2x.html\n",
    "  \"Ada 202x Language Reference Manual\"\n",
    "\n",
    "[Jupyter Ada Kernel]: https://github.com/reznikmm/jupyter\n",
    "\n",
    "[mybinder]:\n",
    "  https://mybinder.org/v2/gh/reznikmm/ada-howto/ce-2020?filepath=%2Fhome%2Fjovyan%2Fce2020.ipynb\n",
    "  \"Run me!\"\n",
    "\n",
    "[спецификатор контекста]:\n",
    "  http://www.ada-auth.org/standards/rm12_w_tc1/html/RM-10-1-2.html#S0253\n",
    "  \"context clauses\"\n",
    "\n",
    "[оператор]:\n",
    "  http://www.ada-auth.org/standards/rm12_w_tc1/html/RM-5-1.html#S0146\n",
    "  \"statements\"\n",
    "\n",
    "[определение]:\n",
    "  http://www.ada-auth.org/standards/rm12_w_tc1/html/RM-3-11.html#S0087\n",
    "  \"declarative items\""
   ]
  },
  {
   "cell_type": "code",
   "execution_count": 1,
   "metadata": {},
   "outputs": [],
   "source": [
    "pragma Ada_2020;\n",
    "with Ada.Text_IO;"
   ]
  },
  {
   "cell_type": "markdown",
   "metadata": {},
   "source": [
    "## Больше выразительности и удобства\n",
    "\n",
    "Авторы стандарта стараются сделать язык более выразительным и удобным. К нововведениям этой группы можно отнести литералы пользовательских типов, агрегаты контейнеров, новые виды агрегатов массивов и записей и прочее. Давайте начнем с атрибута `'Image`.\n",
    "\n",
    "### Атрибут `'Image` для всех типов\n",
    "\n",
    "В новом стандарте атрибут `'Image` работает для всех типов, а не только для скалярных, как было раньше. (Если Вы пропустили изменения в стандарте с \n",
    "\"[техническими правками 2016](http://www.ada-auth.org/standards/rm12_w_tc1/html/RM-3-5.html#I1681)\",\n",
    "то знайте, теперь префиксом атрибута может выступать не только тип, но и значение)."
   ]
  },
  {
   "cell_type": "code",
   "execution_count": 2,
   "metadata": {},
   "outputs": [],
   "source": [
    "Integer_Array : array (1 .. 3) of Integer := (1, 2, 3);"
   ]
  },
  {
   "cell_type": "code",
   "execution_count": 3,
   "metadata": {},
   "outputs": [
    {
     "data": {
      "text/plain": [
       "\n",
       "[ 1,  2,  3]\n"
      ]
     },
     "execution_count": 3,
     "metadata": {},
     "output_type": "execute_result"
    }
   ],
   "source": [
    "Ada.Text_IO.Put_Line (Integer_Array'Image);"
   ]
  },
  {
   "cell_type": "markdown",
   "metadata": {},
   "source": [
    "### Переопределение атрибута `'Image`\n",
    "\n",
    "Также можно задать подпрограмму для отображения значений своего типа.\n",
    "Причём авторы компилятора пошли другим путём, чем написано в стандарте.\n",
    "(Видимо черновик стандарта будет обновлятся, если ARG приймет новый вариант этой функциональности).\n",
    "Вариант от AdaCore для меня выглядит странно, да и то, что прописали в черновик - не идеал.\n",
    "\n",
    "Основная идея в том, чтобы определить аспект `Put_Image` для вашего типа используя костыли из предопределённого пакета:"
   ]
  },
  {
   "cell_type": "code",
   "execution_count": 4,
   "metadata": {},
   "outputs": [],
   "source": [
    "with Ada.Strings.Text_Output.Utils;"
   ]
  },
  {
   "cell_type": "code",
   "execution_count": 5,
   "metadata": {},
   "outputs": [],
   "source": [
    "package Source_Locations is\n",
    "   type Source_Location is record\n",
    "      Line : Positive;\n",
    "      Column : Positive;\n",
    "   end record\n",
    "     with Put_Image => My_Put_Image;\n",
    "\n",
    "   procedure My_Put_Image\n",
    "     (Sink  : in out Ada.Strings.Text_Output.Sink'Class;\n",
    "      Value : Source_Location);\n",
    "end Source_Locations;\n",
    "\n",
    "package body Source_Locations is\n",
    "\n",
    "   procedure My_Put_Image\n",
    "     (Sink  : in out Ada.Strings.Text_Output.Sink'Class;\n",
    "      Value : Source_Location)\n",
    "   is\n",
    "      Line   : constant String := Value.Line'Image;\n",
    "      Column : constant String := Value.Column'Image;\n",
    "      Result : constant String :=\n",
    "        Line (2 .. Line'Last) & ':' & Column (2 .. Column'Last);\n",
    "   begin\n",
    "       Ada.Strings.Text_Output.Utils.Put_UTF_8 (Sink, Result);\n",
    "   end My_Put_Image;\n",
    "\n",
    "end Source_Locations;"
   ]
  },
  {
   "cell_type": "code",
   "execution_count": 6,
   "metadata": {},
   "outputs": [],
   "source": [
    "Line_10 : Source_Locations.Source_Location := (Line => 10, Column => 1);"
   ]
  },
  {
   "cell_type": "code",
   "execution_count": 7,
   "metadata": {},
   "outputs": [
    {
     "data": {
      "text/plain": [
       "Text position 10:1\n"
      ]
     },
     "execution_count": 7,
     "metadata": {},
     "output_type": "execute_result"
    }
   ],
   "source": [
    "Ada.Text_IO.Put_Line (\"Text position \" & Line_10'Image);"
   ]
  },
  {
   "cell_type": "markdown",
   "metadata": {},
   "source": [
    "### Числовые и строковые литералы для пользовательских типов \n",
    "    \n",
    "Появилась возможность использовать литералы языка для своих типов.\n",
    "Это позволяет избежать явного вызова функции преобразования.\n",
    "\n",
    "Это удобно, когда вводишь свои строчные и числовые типы:"
   ]
  },
  {
   "cell_type": "code",
   "execution_count": 8,
   "metadata": {},
   "outputs": [],
   "source": [
    "with Ada.Strings.Unbounded;\n",
    "with Ada.Strings.UTF_Encoding.Wide_Wide_Strings;"
   ]
  },
  {
   "cell_type": "code",
   "execution_count": 9,
   "metadata": {},
   "outputs": [],
   "source": [
    "type My_String is new Ada.Strings.Unbounded.Unbounded_String\n",
    "  with String_Literal => From_String;\n",
    "\n",
    "function From_String (Text : Wide_Wide_String) return My_String is\n",
    " (To_Unbounded_String\n",
    "   (Ada.Strings.UTF_Encoding.Wide_Wide_Strings.Encode\n",
    "     (Text)));\n",
    "\n",
    "Five : My_String := \"5\";\n"
   ]
  },
  {
   "cell_type": "code",
   "execution_count": 10,
   "metadata": {},
   "outputs": [
    {
     "data": {
      "text/plain": [
       "5\n"
      ]
     },
     "execution_count": 10,
     "metadata": {},
     "output_type": "execute_result"
    }
   ],
   "source": [
    "Ada.Text_IO.Put_Line (To_String (Five));"
   ]
  },
  {
   "cell_type": "markdown",
   "metadata": {},
   "source": [
    "### Итеративные ассоциации в агрегатах массивов\n",
    "\n",
    "Это попытка скрестить итераторы `for` и агрегаты массивов:"
   ]
  },
  {
   "cell_type": "code",
   "execution_count": 11,
   "metadata": {},
   "outputs": [],
   "source": [
    "type Integer_Matrix is array (1 .. 3, 1 .. 3) of Integer;\n",
    "\n",
    "X_3x3 : Integer_Matrix :=\n",
    " (for K in 1 .. 3 =>\n",
    "   (for J in 1 .. 3 => (K * 10 + J)));"
   ]
  },
  {
   "cell_type": "code",
   "execution_count": 12,
   "metadata": {},
   "outputs": [
    {
     "data": {
      "text/plain": [
       "\n",
       "[\n",
       " [ 11,  12,  13],\n",
       "\n",
       " [ 21,  22,  23],\n",
       "\n",
       " [ 31,  32,  33]]\n"
      ]
     },
     "execution_count": 12,
     "metadata": {},
     "output_type": "execute_result"
    }
   ],
   "source": [
    "Ada.Text_IO.Put_Line (X_3x3'Image);"
   ]
  }
 ],
 "metadata": {
  "kernelspec": {
   "display_name": "Ada",
   "language": "ada",
   "name": "ada"
  },
  "language_info": {
   "codemirror_mode": "ada",
   "file_extension": ".adb",
   "mimetype": "text/x-ada",
   "name": "Ada",
   "pygments_lexer": "ada",
   "version": "2012"
  }
 },
 "nbformat": 4,
 "nbformat_minor": 4
}
